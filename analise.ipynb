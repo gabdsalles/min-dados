{
 "cells": [
  {
   "cell_type": "code",
   "execution_count": 1,
   "metadata": {},
   "outputs": [],
   "source": [
    "import numpy as np\n",
    "import pandas as pd\n",
    "import matplotlib.pyplot as plt"
   ]
  },
  {
   "cell_type": "code",
   "execution_count": 4,
   "metadata": {},
   "outputs": [],
   "source": [
    "movies_database = pd.read_csv('rotten_tomatoes_movies.csv')\n",
    "reviews_database = pd.read_csv('rotten_tomatoes_movie_reviews.csv')"
   ]
  },
  {
   "cell_type": "markdown",
   "metadata": {},
   "source": [
    "### Retirar linhas com muitas colunas nulas e colunas desnecessárias\n",
    "\n",
    "- contar nulos em cada base\n",
    "- excluir colunas que tem bastante nulo"
   ]
  },
  {
   "cell_type": "code",
   "execution_count": 5,
   "metadata": {},
   "outputs": [
    {
     "name": "stdout",
     "output_type": "stream",
     "text": [
      "id: 0.00\n",
      "title: 0.26\n",
      "audienceScore: 48.87\n",
      "tomatoMeter: 76.35\n",
      "rating: 90.23\n",
      "ratingContents: 90.23\n",
      "releaseDateTheaters: 78.52\n",
      "releaseDateStreaming: 44.56\n",
      "runtimeMinutes: 9.65\n",
      "genre: 7.74\n",
      "originalLanguage: 9.67\n",
      "director: 2.94\n",
      "writer: 37.10\n",
      "boxOffice: 89.71\n",
      "distributor: 83.94\n",
      "soundMix: 88.89\n",
      "Exclusão feita com sucesso\n"
     ]
    }
   ],
   "source": [
    "tamanho_base_filmes = movies_database.shape[0]\n",
    "\n",
    "for column in movies_database.columns:\n",
    "    #print(column, movies_database[column].isnull().sum())\n",
    "    porcentagem = movies_database[column].isnull().sum() / tamanho_base_filmes\n",
    "    print(f\"{column}: {porcentagem * 100:.2f}\")\n",
    "\n",
    "\n",
    "colunas_exclusao = ['rating', 'ratingContents', 'distributor', 'soundMix', 'releaseDateTheaters']\n",
    "\n",
    "movies_database = movies_database.drop(columns=colunas_exclusao)\n",
    "print(\"Exclusão feita com sucesso\")"
   ]
  },
  {
   "cell_type": "code",
   "execution_count": 6,
   "metadata": {},
   "outputs": [
    {
     "name": "stdout",
     "output_type": "stream",
     "text": [
      "1444963\n",
      "id: 0.00\n",
      "reviewId: 0.00\n",
      "creationDate: 0.00\n",
      "criticName: 0.00\n",
      "isTopCritic: 0.00\n",
      "originalScore: 30.12\n",
      "reviewState: 0.00\n",
      "publicatioName: 0.00\n",
      "reviewText: 4.79\n",
      "scoreSentiment: 0.00\n",
      "reviewUrl: 14.60\n"
     ]
    }
   ],
   "source": [
    "tamanho_base_criticas = reviews_database.shape[0]\n",
    "print(tamanho_base_criticas)\n",
    "\n",
    "for column in reviews_database.columns:\n",
    "    #print(column, reviews_database[column].isnull().sum())\n",
    "    porcentagem = reviews_database[column].isnull().sum() / tamanho_base_criticas\n",
    "    print(f\"{column}: {porcentagem * 100:.2f}\")\n",
    "\n",
    "# tirar linhas que não tem original score, já que não dá pra saber a nota específica\n",
    "reviews_database = reviews_database.dropna(subset=['originalScore'])\n",
    "\n",
    "reviews_database.drop(columns=['reviewUrl'], inplace=True)"
   ]
  },
  {
   "cell_type": "code",
   "execution_count": 7,
   "metadata": {},
   "outputs": [
    {
     "name": "stdout",
     "output_type": "stream",
     "text": [
      "originalScore\n",
      "3/5               116711\n",
      "4/5               110222\n",
      "3/4                82297\n",
      "2/5                72787\n",
      "2/4                50645\n",
      "                   ...  \n",
      "5.9332482/10           1\n",
      "8.701419/10            1\n",
      "8.248120421/10         1\n",
      "6.7/8                  1\n",
      "7.44224848/10          1\n",
      "Name: count, Length: 1729, dtype: int64\n",
      "originalScore\n",
      "60.000000    130375\n",
      "80.000000    126393\n",
      "50.000000     87203\n",
      "75.000000     86664\n",
      "40.000000     79641\n",
      "              ...  \n",
      "81.842000         1\n",
      "48.270000         1\n",
      "78.642466         1\n",
      "50.500000         1\n",
      "74.422485         1\n",
      "Name: count, Length: 1244, dtype: int64\n",
      "Linhas excluídas: 312\n",
      "Tamanho do dataset após exclusão:  1009433\n"
     ]
    }
   ],
   "source": [
    "print(reviews_database['originalScore'].value_counts())\n",
    "\n",
    "linhas_excluidas = 0\n",
    "\n",
    "\n",
    "for index, row in reviews_database.iterrows():\n",
    "    \n",
    "    nota_original = row['originalScore']\n",
    "    nota = nota_original.split('/')\n",
    "\n",
    "    if len(nota) == 2:\n",
    "        \n",
    "        try:\n",
    "            nota_nova = float(nota[0]) / float(nota[1]) * 100\n",
    "\n",
    "        except Exception as e:\n",
    "            reviews_database.drop(index, inplace=True)\n",
    "            linhas_excluidas += 1\n",
    "\n",
    "        else:\n",
    "            reviews_database.at[index, 'originalScore'] = nota_nova\n",
    "\n",
    "print(reviews_database['originalScore'].value_counts())\n",
    "print(f\"Linhas excluídas: {linhas_excluidas}\")\n",
    "print(\"Tamanho do dataset após exclusão: \", reviews_database.shape[0])\n"
   ]
  },
  {
   "cell_type": "markdown",
   "metadata": {},
   "source": [
    "### Juntando as bases de filmes e críticas através do Id"
   ]
  },
  {
   "cell_type": "code",
   "execution_count": 33,
   "metadata": {},
   "outputs": [],
   "source": [
    "df_movies_critics = pd.merge(movies_database, reviews_database, on='id')"
   ]
  },
  {
   "cell_type": "code",
   "execution_count": 34,
   "metadata": {},
   "outputs": [
    {
     "data": {
      "text/html": [
       "<div>\n",
       "<style scoped>\n",
       "    .dataframe tbody tr th:only-of-type {\n",
       "        vertical-align: middle;\n",
       "    }\n",
       "\n",
       "    .dataframe tbody tr th {\n",
       "        vertical-align: top;\n",
       "    }\n",
       "\n",
       "    .dataframe thead th {\n",
       "        text-align: right;\n",
       "    }\n",
       "</style>\n",
       "<table border=\"1\" class=\"dataframe\">\n",
       "  <thead>\n",
       "    <tr style=\"text-align: right;\">\n",
       "      <th></th>\n",
       "      <th>id</th>\n",
       "      <th>title</th>\n",
       "      <th>audienceScore</th>\n",
       "      <th>tomatoMeter</th>\n",
       "      <th>releaseDateStreaming</th>\n",
       "      <th>runtimeMinutes</th>\n",
       "      <th>genre</th>\n",
       "      <th>originalLanguage</th>\n",
       "      <th>director</th>\n",
       "      <th>writer</th>\n",
       "      <th>boxOffice</th>\n",
       "      <th>reviewId</th>\n",
       "      <th>creationDate</th>\n",
       "      <th>criticName</th>\n",
       "      <th>isTopCritic</th>\n",
       "      <th>originalScore</th>\n",
       "      <th>reviewState</th>\n",
       "      <th>publicatioName</th>\n",
       "      <th>reviewText</th>\n",
       "      <th>scoreSentiment</th>\n",
       "    </tr>\n",
       "  </thead>\n",
       "  <tbody>\n",
       "    <tr>\n",
       "      <th>0</th>\n",
       "      <td>love_lies</td>\n",
       "      <td>Love, Lies</td>\n",
       "      <td>43.0</td>\n",
       "      <td>NaN</td>\n",
       "      <td>NaN</td>\n",
       "      <td>120.0</td>\n",
       "      <td>Drama</td>\n",
       "      <td>Korean</td>\n",
       "      <td>Park Heung-Sik,Heung-Sik Park</td>\n",
       "      <td>Ha Young-Joon,Jeon Yun-su,Song Hye-jin</td>\n",
       "      <td>NaN</td>\n",
       "      <td>2739073</td>\n",
       "      <td>2020-10-31</td>\n",
       "      <td>James Mudge</td>\n",
       "      <td>False</td>\n",
       "      <td>80.0</td>\n",
       "      <td>fresh</td>\n",
       "      <td>easternKicks.com</td>\n",
       "      <td>Though let down by its routine love triangle n...</td>\n",
       "      <td>POSITIVE</td>\n",
       "    </tr>\n",
       "    <tr>\n",
       "      <th>1</th>\n",
       "      <td>love_lies</td>\n",
       "      <td>Love, Lies</td>\n",
       "      <td>43.0</td>\n",
       "      <td>NaN</td>\n",
       "      <td>NaN</td>\n",
       "      <td>120.0</td>\n",
       "      <td>Drama</td>\n",
       "      <td>Korean</td>\n",
       "      <td>Park Heung-Sik,Heung-Sik Park</td>\n",
       "      <td>Ha Young-Joon,Jeon Yun-su,Song Hye-jin</td>\n",
       "      <td>NaN</td>\n",
       "      <td>2333658</td>\n",
       "      <td>2016-06-15</td>\n",
       "      <td>Diva Velez</td>\n",
       "      <td>False</td>\n",
       "      <td>70.0</td>\n",
       "      <td>fresh</td>\n",
       "      <td>TheDivaReview.com</td>\n",
       "      <td>While not perfect, Love, Lies is a worthy disc...</td>\n",
       "      <td>POSITIVE</td>\n",
       "    </tr>\n",
       "    <tr>\n",
       "      <th>2</th>\n",
       "      <td>adrift_2018</td>\n",
       "      <td>Adrift</td>\n",
       "      <td>65.0</td>\n",
       "      <td>69.0</td>\n",
       "      <td>2018-08-21</td>\n",
       "      <td>120.0</td>\n",
       "      <td>Adventure, Drama, Romance</td>\n",
       "      <td>English</td>\n",
       "      <td>Baltasar Kormákur</td>\n",
       "      <td>Aaron Kandell,Jordan Kandell,David Branson Smith</td>\n",
       "      <td>$31.4M</td>\n",
       "      <td>102694850</td>\n",
       "      <td>2022-05-29</td>\n",
       "      <td>Josh Parham</td>\n",
       "      <td>False</td>\n",
       "      <td>60.0</td>\n",
       "      <td>fresh</td>\n",
       "      <td>Next Best Picture</td>\n",
       "      <td>This is nowhere near the level of other great ...</td>\n",
       "      <td>POSITIVE</td>\n",
       "    </tr>\n",
       "    <tr>\n",
       "      <th>3</th>\n",
       "      <td>adrift_2018</td>\n",
       "      <td>Adrift</td>\n",
       "      <td>65.0</td>\n",
       "      <td>69.0</td>\n",
       "      <td>2018-08-21</td>\n",
       "      <td>120.0</td>\n",
       "      <td>Adventure, Drama, Romance</td>\n",
       "      <td>English</td>\n",
       "      <td>Baltasar Kormákur</td>\n",
       "      <td>Aaron Kandell,Jordan Kandell,David Branson Smith</td>\n",
       "      <td>$31.4M</td>\n",
       "      <td>2816011</td>\n",
       "      <td>2021-08-21</td>\n",
       "      <td>Kip Mooney</td>\n",
       "      <td>False</td>\n",
       "      <td>C+</td>\n",
       "      <td>rotten</td>\n",
       "      <td>College Movie Review</td>\n",
       "      <td>For almost the entire runtime, the only people...</td>\n",
       "      <td>NEGATIVE</td>\n",
       "    </tr>\n",
       "    <tr>\n",
       "      <th>4</th>\n",
       "      <td>adrift_2018</td>\n",
       "      <td>Adrift</td>\n",
       "      <td>65.0</td>\n",
       "      <td>69.0</td>\n",
       "      <td>2018-08-21</td>\n",
       "      <td>120.0</td>\n",
       "      <td>Adventure, Drama, Romance</td>\n",
       "      <td>English</td>\n",
       "      <td>Baltasar Kormákur</td>\n",
       "      <td>Aaron Kandell,Jordan Kandell,David Branson Smith</td>\n",
       "      <td>$31.4M</td>\n",
       "      <td>2772153</td>\n",
       "      <td>2021-02-28</td>\n",
       "      <td>Richard Crouse</td>\n",
       "      <td>False</td>\n",
       "      <td>40.0</td>\n",
       "      <td>rotten</td>\n",
       "      <td>Richard Crouse</td>\n",
       "      <td>What is meant to be a voyage of self-discovery...</td>\n",
       "      <td>NEGATIVE</td>\n",
       "    </tr>\n",
       "    <tr>\n",
       "      <th>...</th>\n",
       "      <td>...</td>\n",
       "      <td>...</td>\n",
       "      <td>...</td>\n",
       "      <td>...</td>\n",
       "      <td>...</td>\n",
       "      <td>...</td>\n",
       "      <td>...</td>\n",
       "      <td>...</td>\n",
       "      <td>...</td>\n",
       "      <td>...</td>\n",
       "      <td>...</td>\n",
       "      <td>...</td>\n",
       "      <td>...</td>\n",
       "      <td>...</td>\n",
       "      <td>...</td>\n",
       "      <td>...</td>\n",
       "      <td>...</td>\n",
       "      <td>...</td>\n",
       "      <td>...</td>\n",
       "      <td>...</td>\n",
       "    </tr>\n",
       "    <tr>\n",
       "      <th>1026391</th>\n",
       "      <td>the-human-body</td>\n",
       "      <td>The Human Body</td>\n",
       "      <td>71.0</td>\n",
       "      <td>89.0</td>\n",
       "      <td>NaN</td>\n",
       "      <td>43.0</td>\n",
       "      <td>Documentary</td>\n",
       "      <td>English</td>\n",
       "      <td>Peter Georgi</td>\n",
       "      <td>Richard Dale</td>\n",
       "      <td>NaN</td>\n",
       "      <td>276090</td>\n",
       "      <td>2001-12-29</td>\n",
       "      <td>Catharine Tunnacliffe</td>\n",
       "      <td>False</td>\n",
       "      <td>60.0</td>\n",
       "      <td>fresh</td>\n",
       "      <td>eye WEEKLY</td>\n",
       "      <td>A movie about the hard-to-reach interior lands...</td>\n",
       "      <td>POSITIVE</td>\n",
       "    </tr>\n",
       "    <tr>\n",
       "      <th>1026392</th>\n",
       "      <td>the-human-body</td>\n",
       "      <td>The Human Body</td>\n",
       "      <td>71.0</td>\n",
       "      <td>89.0</td>\n",
       "      <td>NaN</td>\n",
       "      <td>43.0</td>\n",
       "      <td>Documentary</td>\n",
       "      <td>English</td>\n",
       "      <td>Peter Georgi</td>\n",
       "      <td>Richard Dale</td>\n",
       "      <td>NaN</td>\n",
       "      <td>276088</td>\n",
       "      <td>2001-12-29</td>\n",
       "      <td>E! Staff</td>\n",
       "      <td>False</td>\n",
       "      <td>A</td>\n",
       "      <td>fresh</td>\n",
       "      <td>E! Online</td>\n",
       "      <td>Among the X-rayed, magnified wonders: food get...</td>\n",
       "      <td>POSITIVE</td>\n",
       "    </tr>\n",
       "    <tr>\n",
       "      <th>1026393</th>\n",
       "      <td>the-human-body</td>\n",
       "      <td>The Human Body</td>\n",
       "      <td>71.0</td>\n",
       "      <td>89.0</td>\n",
       "      <td>NaN</td>\n",
       "      <td>43.0</td>\n",
       "      <td>Documentary</td>\n",
       "      <td>English</td>\n",
       "      <td>Peter Georgi</td>\n",
       "      <td>Richard Dale</td>\n",
       "      <td>NaN</td>\n",
       "      <td>276083</td>\n",
       "      <td>2001-12-29</td>\n",
       "      <td>Bridget Byrne</td>\n",
       "      <td>False</td>\n",
       "      <td>40.0</td>\n",
       "      <td>rotten</td>\n",
       "      <td>Boxoffice Magazine</td>\n",
       "      <td>The impression left is that of a series of sli...</td>\n",
       "      <td>NEGATIVE</td>\n",
       "    </tr>\n",
       "    <tr>\n",
       "      <th>1026394</th>\n",
       "      <td>the-human-body</td>\n",
       "      <td>The Human Body</td>\n",
       "      <td>71.0</td>\n",
       "      <td>89.0</td>\n",
       "      <td>NaN</td>\n",
       "      <td>43.0</td>\n",
       "      <td>Documentary</td>\n",
       "      <td>English</td>\n",
       "      <td>Peter Georgi</td>\n",
       "      <td>Richard Dale</td>\n",
       "      <td>NaN</td>\n",
       "      <td>276084</td>\n",
       "      <td>2001-12-29</td>\n",
       "      <td>Ross Anthony</td>\n",
       "      <td>False</td>\n",
       "      <td>62.5</td>\n",
       "      <td>fresh</td>\n",
       "      <td>Hollywood Report Card</td>\n",
       "      <td>Though plenty of room for improvement exists, ...</td>\n",
       "      <td>POSITIVE</td>\n",
       "    </tr>\n",
       "    <tr>\n",
       "      <th>1026395</th>\n",
       "      <td>the-human-body</td>\n",
       "      <td>The Human Body</td>\n",
       "      <td>71.0</td>\n",
       "      <td>89.0</td>\n",
       "      <td>NaN</td>\n",
       "      <td>43.0</td>\n",
       "      <td>Documentary</td>\n",
       "      <td>English</td>\n",
       "      <td>Peter Georgi</td>\n",
       "      <td>Richard Dale</td>\n",
       "      <td>NaN</td>\n",
       "      <td>276086</td>\n",
       "      <td>2001-12-29</td>\n",
       "      <td>John Petrakis</td>\n",
       "      <td>True</td>\n",
       "      <td>87.5</td>\n",
       "      <td>fresh</td>\n",
       "      <td>Chicago Tribune</td>\n",
       "      <td>My guess is that The Human Body will inspire m...</td>\n",
       "      <td>POSITIVE</td>\n",
       "    </tr>\n",
       "  </tbody>\n",
       "</table>\n",
       "<p>1026396 rows × 20 columns</p>\n",
       "</div>"
      ],
      "text/plain": [
       "                     id           title  audienceScore  tomatoMeter  \\\n",
       "0             love_lies      Love, Lies           43.0          NaN   \n",
       "1             love_lies      Love, Lies           43.0          NaN   \n",
       "2           adrift_2018          Adrift           65.0         69.0   \n",
       "3           adrift_2018          Adrift           65.0         69.0   \n",
       "4           adrift_2018          Adrift           65.0         69.0   \n",
       "...                 ...             ...            ...          ...   \n",
       "1026391  the-human-body  The Human Body           71.0         89.0   \n",
       "1026392  the-human-body  The Human Body           71.0         89.0   \n",
       "1026393  the-human-body  The Human Body           71.0         89.0   \n",
       "1026394  the-human-body  The Human Body           71.0         89.0   \n",
       "1026395  the-human-body  The Human Body           71.0         89.0   \n",
       "\n",
       "        releaseDateStreaming  runtimeMinutes                      genre  \\\n",
       "0                        NaN           120.0                      Drama   \n",
       "1                        NaN           120.0                      Drama   \n",
       "2                 2018-08-21           120.0  Adventure, Drama, Romance   \n",
       "3                 2018-08-21           120.0  Adventure, Drama, Romance   \n",
       "4                 2018-08-21           120.0  Adventure, Drama, Romance   \n",
       "...                      ...             ...                        ...   \n",
       "1026391                  NaN            43.0                Documentary   \n",
       "1026392                  NaN            43.0                Documentary   \n",
       "1026393                  NaN            43.0                Documentary   \n",
       "1026394                  NaN            43.0                Documentary   \n",
       "1026395                  NaN            43.0                Documentary   \n",
       "\n",
       "        originalLanguage                       director  \\\n",
       "0                 Korean  Park Heung-Sik,Heung-Sik Park   \n",
       "1                 Korean  Park Heung-Sik,Heung-Sik Park   \n",
       "2                English              Baltasar Kormákur   \n",
       "3                English              Baltasar Kormákur   \n",
       "4                English              Baltasar Kormákur   \n",
       "...                  ...                            ...   \n",
       "1026391          English                   Peter Georgi   \n",
       "1026392          English                   Peter Georgi   \n",
       "1026393          English                   Peter Georgi   \n",
       "1026394          English                   Peter Georgi   \n",
       "1026395          English                   Peter Georgi   \n",
       "\n",
       "                                                   writer boxOffice  \\\n",
       "0                  Ha Young-Joon,Jeon Yun-su,Song Hye-jin       NaN   \n",
       "1                  Ha Young-Joon,Jeon Yun-su,Song Hye-jin       NaN   \n",
       "2        Aaron Kandell,Jordan Kandell,David Branson Smith    $31.4M   \n",
       "3        Aaron Kandell,Jordan Kandell,David Branson Smith    $31.4M   \n",
       "4        Aaron Kandell,Jordan Kandell,David Branson Smith    $31.4M   \n",
       "...                                                   ...       ...   \n",
       "1026391                                      Richard Dale       NaN   \n",
       "1026392                                      Richard Dale       NaN   \n",
       "1026393                                      Richard Dale       NaN   \n",
       "1026394                                      Richard Dale       NaN   \n",
       "1026395                                      Richard Dale       NaN   \n",
       "\n",
       "          reviewId creationDate             criticName  isTopCritic  \\\n",
       "0          2739073   2020-10-31            James Mudge        False   \n",
       "1          2333658   2016-06-15             Diva Velez        False   \n",
       "2        102694850   2022-05-29            Josh Parham        False   \n",
       "3          2816011   2021-08-21             Kip Mooney        False   \n",
       "4          2772153   2021-02-28         Richard Crouse        False   \n",
       "...            ...          ...                    ...          ...   \n",
       "1026391     276090   2001-12-29  Catharine Tunnacliffe        False   \n",
       "1026392     276088   2001-12-29               E! Staff        False   \n",
       "1026393     276083   2001-12-29          Bridget Byrne        False   \n",
       "1026394     276084   2001-12-29           Ross Anthony        False   \n",
       "1026395     276086   2001-12-29          John Petrakis         True   \n",
       "\n",
       "        originalScore reviewState         publicatioName  \\\n",
       "0                80.0       fresh       easternKicks.com   \n",
       "1                70.0       fresh      TheDivaReview.com   \n",
       "2                60.0       fresh      Next Best Picture   \n",
       "3                  C+      rotten   College Movie Review   \n",
       "4                40.0      rotten         Richard Crouse   \n",
       "...               ...         ...                    ...   \n",
       "1026391          60.0       fresh             eye WEEKLY   \n",
       "1026392             A       fresh              E! Online   \n",
       "1026393          40.0      rotten     Boxoffice Magazine   \n",
       "1026394          62.5       fresh  Hollywood Report Card   \n",
       "1026395          87.5       fresh        Chicago Tribune   \n",
       "\n",
       "                                                reviewText scoreSentiment  \n",
       "0        Though let down by its routine love triangle n...       POSITIVE  \n",
       "1        While not perfect, Love, Lies is a worthy disc...       POSITIVE  \n",
       "2        This is nowhere near the level of other great ...       POSITIVE  \n",
       "3        For almost the entire runtime, the only people...       NEGATIVE  \n",
       "4        What is meant to be a voyage of self-discovery...       NEGATIVE  \n",
       "...                                                    ...            ...  \n",
       "1026391  A movie about the hard-to-reach interior lands...       POSITIVE  \n",
       "1026392  Among the X-rayed, magnified wonders: food get...       POSITIVE  \n",
       "1026393  The impression left is that of a series of sli...       NEGATIVE  \n",
       "1026394  Though plenty of room for improvement exists, ...       POSITIVE  \n",
       "1026395  My guess is that The Human Body will inspire m...       POSITIVE  \n",
       "\n",
       "[1026396 rows x 20 columns]"
      ]
     },
     "execution_count": 34,
     "metadata": {},
     "output_type": "execute_result"
    }
   ],
   "source": [
    "df_movies_critics"
   ]
  },
  {
   "cell_type": "code",
   "execution_count": 35,
   "metadata": {},
   "outputs": [
    {
     "name": "stdout",
     "output_type": "stream",
     "text": [
      "id: 0.00\n",
      "title: 0.39\n",
      "audienceScore: 3.78\n",
      "tomatoMeter: 4.33\n",
      "releaseDateStreaming: 6.66\n",
      "runtimeMinutes: 1.70\n",
      "genre: 1.42\n",
      "originalLanguage: 1.70\n",
      "director: 0.60\n",
      "writer: 9.98\n",
      "boxOffice: 28.53\n",
      "reviewId: 0.00\n",
      "creationDate: 0.00\n",
      "criticName: 0.00\n",
      "isTopCritic: 0.00\n",
      "originalScore: 0.00\n",
      "reviewState: 0.00\n",
      "publicatioName: 0.00\n",
      "reviewText: 6.83\n",
      "scoreSentiment: 0.00\n"
     ]
    }
   ],
   "source": [
    "for column in df_movies_critics.columns:\n",
    "    #print(column, df_movies_critics[column].isnull().sum())\n",
    "    porcentagem = df_movies_critics[column].isnull().sum() / df_movies_critics.shape[0]\n",
    "    print(f\"{column}: {porcentagem * 100:.2f}\")"
   ]
  },
  {
   "cell_type": "code",
   "execution_count": 36,
   "metadata": {},
   "outputs": [
    {
     "name": "stdout",
     "output_type": "stream",
     "text": [
      "Linhas antes da exclusão: 1026396\n",
      "Linhas após a exclusão: 730027\n"
     ]
    }
   ],
   "source": [
    "print(f\"Linhas antes da exclusão: {df_movies_critics.shape[0]}\")\n",
    "\n",
    "df_movies_critics.dropna(subset=['audienceScore', 'tomatoMeter', 'runtimeMinutes', 'boxOffice'], inplace=True)\n",
    "\n",
    "print(f\"Linhas após a exclusão: {df_movies_critics.shape[0]}\")\n",
    "\n",
    "df_movies_critics.to_csv('base_merge.csv', index=False)"
   ]
  },
  {
   "cell_type": "code",
   "execution_count": 2,
   "metadata": {},
   "outputs": [],
   "source": [
    "import numpy as np\n",
    "import pandas as pd\n",
    "import matplotlib.pyplot as plt"
   ]
  },
  {
   "cell_type": "code",
   "execution_count": 3,
   "metadata": {},
   "outputs": [
    {
     "data": {
      "image/png": "[encoded data removed]",
      "text/plain": [
       "<Figure size 1000x600 with 1 Axes>"
      ]
     },
     "metadata": {},
     "output_type": "display_data"
    }
   ],
   "source": [
    "df_movies_critics = pd.read_csv('base_merge.csv')\n",
    "\n",
    "# Plotando o histograma\n",
    "plt.figure(figsize=(10, 6))\n",
    "plt.hist(df_movies_critics['audienceScore'], bins=20, color='coral', edgecolor='black')\n",
    "plt.title('Distribuição da Pontuação da Audiência')\n",
    "plt.xlabel('Pontuação da Audiência')\n",
    "plt.ylabel('Frequência')\n",
    "plt.show()"
   ]
  },
  {
   "cell_type": "code",
   "execution_count": 4,
   "metadata": {},
   "outputs": [
    {
     "data": {
      "image/png": "[encoded data removed]",
      "text/plain": [
       "<Figure size 640x480 with 1 Axes>"
      ]
     },
     "metadata": {},
     "output_type": "display_data"
    }
   ],
   "source": [
    "plt.pie(df_movies_critics['reviewState'].value_counts(), labels=df_movies_critics['reviewState'].value_counts().index, autopct='%1.1f%%', startangle=240, colors = ['coral', 'lightgreen'])\n",
    "plt.title(\"Relação entre as críticas: fresh e rotten\")\n",
    "plt.legend(loc='upper right', fontsize='small', title='Legenda', title_fontsize='medium', shadow=True, fancybox=True)\n",
    "plt.axis('equal')\n",
    "\n",
    "plt.show()"
   ]
  },
  {
   "cell_type": "code",
   "execution_count": 5,
   "metadata": {},
   "outputs": [
    {
     "data": {
      "image/png": "[encoded data removed]",
      "text/plain": [
       "<Figure size 1000x600 with 1 Axes>"
      ]
     },
     "metadata": {},
     "output_type": "display_data"
    }
   ],
   "source": [
    "df_movies_critics['creationDate'] = pd.to_datetime(df_movies_critics['creationDate'])\n",
    "\n",
    "# Criar uma cópia filtrada dos dados a partir de 1995\n",
    "df_filtered = df_movies_critics[df_movies_critics['creationDate'].dt.year >= 1999]\n",
    "\n",
    "# Extrair o ano das datas de criação das críticas\n",
    "ano_criacao_criticas = df_filtered['creationDate'].dt.year\n",
    "\n",
    "# Plotando o histograma\n",
    "plt.figure(figsize=(10, 6))\n",
    "plt.hist(ano_criacao_criticas, bins=20, color='lightblue', edgecolor='black')\n",
    "plt.title('Distribuição das Críticas por Ano (A partir de 1999)')\n",
    "plt.xlabel('Ano')\n",
    "plt.ylabel('Frequência')\n",
    "plt.show()"
   ]
  },
  {
   "cell_type": "code",
   "execution_count": 6,
   "metadata": {},
   "outputs": [
    {
     "data": {
      "image/png": "[encoded data removed]",
      "text/plain": [
       "<Figure size 640x480 with 1 Axes>"
      ]
     },
     "metadata": {},
     "output_type": "display_data"
    }
   ],
   "source": [
    "plt.pie(df_movies_critics['isTopCritic'].value_counts(), labels=df_movies_critics['isTopCritic'].value_counts().index, autopct='%1.1f%%', startangle=220, colors=['coral', 'lightgreen'])\n",
    "plt.title(\"Críticas realizadas por críticos renomados\")\n",
    "plt.legend(loc='upper right', fontsize='small', title='Legenda', title_fontsize='medium', shadow=True, fancybox=True)\n",
    "plt.axis('equal')\n",
    "\n",
    "plt.show()"
   ]
  },
  {
   "cell_type": "code",
   "execution_count": 7,
   "metadata": {},
   "outputs": [
    {
     "ename": "KeyboardInterrupt",
     "evalue": "",
     "output_type": "error",
     "traceback": [
      "\u001b[1;31m---------------------------------------------------------------------------\u001b[0m",
      "\u001b[1;31mKeyboardInterrupt\u001b[0m                         Traceback (most recent call last)",
      "\u001b[1;32m~\\AppData\\Local\\Temp\\ipykernel_17808\\2486529749.py\u001b[0m in \u001b[0;36m?\u001b[1;34m()\u001b[0m\n\u001b[0;32m     10\u001b[0m     \u001b[1;32melse\u001b[0m\u001b[1;33m:\u001b[0m\u001b[1;33m\u001b[0m\u001b[1;33m\u001b[0m\u001b[0m\n\u001b[0;32m     11\u001b[0m         \u001b[1;32mreturn\u001b[0m \u001b[0mfloat\u001b[0m\u001b[1;33m(\u001b[0m\u001b[0mvalor\u001b[0m\u001b[1;33m[\u001b[0m\u001b[1;36m1\u001b[0m\u001b[1;33m:\u001b[0m\u001b[1;33m]\u001b[0m\u001b[1;33m)\u001b[0m\u001b[1;33m\u001b[0m\u001b[1;33m\u001b[0m\u001b[0m\n\u001b[0;32m     12\u001b[0m \u001b[1;33m\u001b[0m\u001b[0m\n\u001b[0;32m     13\u001b[0m \u001b[1;31m# Aplicando a função em cada linha da coluna 'bilheteria'\u001b[0m\u001b[1;33m\u001b[0m\u001b[1;33m\u001b[0m\u001b[0m\n\u001b[1;32m---> 14\u001b[1;33m \u001b[1;32mfor\u001b[0m \u001b[0mindex\u001b[0m\u001b[1;33m,\u001b[0m \u001b[0mrow\u001b[0m \u001b[1;32min\u001b[0m \u001b[0mdf_movies_critics\u001b[0m\u001b[1;33m.\u001b[0m\u001b[0miterrows\u001b[0m\u001b[1;33m(\u001b[0m\u001b[1;33m)\u001b[0m\u001b[1;33m:\u001b[0m\u001b[1;33m\u001b[0m\u001b[1;33m\u001b[0m\u001b[0m\n\u001b[0m\u001b[0;32m     15\u001b[0m     \u001b[0mdf_movies_critics\u001b[0m\u001b[1;33m.\u001b[0m\u001b[0mat\u001b[0m\u001b[1;33m[\u001b[0m\u001b[0mindex\u001b[0m\u001b[1;33m,\u001b[0m \u001b[1;34m'boxOffice'\u001b[0m\u001b[1;33m]\u001b[0m \u001b[1;33m=\u001b[0m \u001b[0mconverter_bilheteria\u001b[0m\u001b[1;33m(\u001b[0m\u001b[0mrow\u001b[0m\u001b[1;33m[\u001b[0m\u001b[1;34m'boxOffice'\u001b[0m\u001b[1;33m]\u001b[0m\u001b[1;33m)\u001b[0m\u001b[1;33m\u001b[0m\u001b[1;33m\u001b[0m\u001b[0m\n\u001b[0;32m     16\u001b[0m \u001b[1;33m\u001b[0m\u001b[0m\n\u001b[0;32m     17\u001b[0m \u001b[1;31m# Visualizando o DataFrame após a conversão\u001b[0m\u001b[1;33m\u001b[0m\u001b[1;33m\u001b[0m\u001b[0m\n",
      "\u001b[1;32m~\\AppData\\Local\\Packages\\PythonSoftwareFoundation.Python.3.11_qbz5n2kfra8p0\\LocalCache\\local-packages\\Python311\\site-packages\\pandas\\core\\frame.py\u001b[0m in \u001b[0;36m?\u001b[1;34m(self)\u001b[0m\n\u001b[0;32m   1446\u001b[0m         \u001b[0mcolumns\u001b[0m \u001b[1;33m=\u001b[0m \u001b[0mself\u001b[0m\u001b[1;33m.\u001b[0m\u001b[0mcolumns\u001b[0m\u001b[1;33m\u001b[0m\u001b[1;33m\u001b[0m\u001b[0m\n\u001b[0;32m   1447\u001b[0m         \u001b[0mklass\u001b[0m \u001b[1;33m=\u001b[0m \u001b[0mself\u001b[0m\u001b[1;33m.\u001b[0m\u001b[0m_constructor_sliced\u001b[0m\u001b[1;33m\u001b[0m\u001b[1;33m\u001b[0m\u001b[0m\n\u001b[0;32m   1448\u001b[0m         \u001b[0musing_cow\u001b[0m \u001b[1;33m=\u001b[0m \u001b[0musing_copy_on_write\u001b[0m\u001b[1;33m(\u001b[0m\u001b[1;33m)\u001b[0m\u001b[1;33m\u001b[0m\u001b[1;33m\u001b[0m\u001b[0m\n\u001b[0;32m   1449\u001b[0m         \u001b[1;32mfor\u001b[0m \u001b[0mk\u001b[0m\u001b[1;33m,\u001b[0m \u001b[0mv\u001b[0m \u001b[1;32min\u001b[0m \u001b[0mzip\u001b[0m\u001b[1;33m(\u001b[0m\u001b[0mself\u001b[0m\u001b[1;33m.\u001b[0m\u001b[0mindex\u001b[0m\u001b[1;33m,\u001b[0m \u001b[0mself\u001b[0m\u001b[1;33m.\u001b[0m\u001b[0mvalues\u001b[0m\u001b[1;33m)\u001b[0m\u001b[1;33m:\u001b[0m\u001b[1;33m\u001b[0m\u001b[1;33m\u001b[0m\u001b[0m\n\u001b[1;32m-> 1450\u001b[1;33m             \u001b[0ms\u001b[0m \u001b[1;33m=\u001b[0m \u001b[0mklass\u001b[0m\u001b[1;33m(\u001b[0m\u001b[0mv\u001b[0m\u001b[1;33m,\u001b[0m \u001b[0mindex\u001b[0m\u001b[1;33m=\u001b[0m\u001b[0mcolumns\u001b[0m\u001b[1;33m,\u001b[0m \u001b[0mname\u001b[0m\u001b[1;33m=\u001b[0m\u001b[0mk\u001b[0m\u001b[1;33m)\u001b[0m\u001b[1;33m.\u001b[0m\u001b[0m__finalize__\u001b[0m\u001b[1;33m(\u001b[0m\u001b[0mself\u001b[0m\u001b[1;33m)\u001b[0m\u001b[1;33m\u001b[0m\u001b[1;33m\u001b[0m\u001b[0m\n\u001b[0m\u001b[0;32m   1451\u001b[0m             \u001b[1;32mif\u001b[0m \u001b[0musing_cow\u001b[0m \u001b[1;32mand\u001b[0m \u001b[0mself\u001b[0m\u001b[1;33m.\u001b[0m\u001b[0m_mgr\u001b[0m\u001b[1;33m.\u001b[0m\u001b[0mis_single_block\u001b[0m\u001b[1;33m:\u001b[0m\u001b[1;33m\u001b[0m\u001b[1;33m\u001b[0m\u001b[0m\n\u001b[0;32m   1452\u001b[0m                 \u001b[0ms\u001b[0m\u001b[1;33m.\u001b[0m\u001b[0m_mgr\u001b[0m\u001b[1;33m.\u001b[0m\u001b[0madd_references\u001b[0m\u001b[1;33m(\u001b[0m\u001b[0mself\u001b[0m\u001b[1;33m.\u001b[0m\u001b[0m_mgr\u001b[0m\u001b[1;33m)\u001b[0m  \u001b[1;31m# type: ignore[arg-type]\u001b[0m\u001b[1;33m\u001b[0m\u001b[1;33m\u001b[0m\u001b[0m\n\u001b[0;32m   1453\u001b[0m             \u001b[1;32myield\u001b[0m \u001b[0mk\u001b[0m\u001b[1;33m,\u001b[0m \u001b[0ms\u001b[0m\u001b[1;33m\u001b[0m\u001b[1;33m\u001b[0m\u001b[0m\n",
      "\u001b[1;32m~\\AppData\\Local\\Packages\\PythonSoftwareFoundation.Python.3.11_qbz5n2kfra8p0\\LocalCache\\local-packages\\Python311\\site-packages\\pandas\\core\\generic.py\u001b[0m in \u001b[0;36m?\u001b[1;34m(self, other, method, **kwargs)\u001b[0m\n\u001b[0;32m   6165\u001b[0m         \u001b[1;32mif\u001b[0m \u001b[0misinstance\u001b[0m\u001b[1;33m(\u001b[0m\u001b[0mother\u001b[0m\u001b[1;33m,\u001b[0m \u001b[0mNDFrame\u001b[0m\u001b[1;33m)\u001b[0m\u001b[1;33m:\u001b[0m\u001b[1;33m\u001b[0m\u001b[1;33m\u001b[0m\u001b[0m\n\u001b[0;32m   6166\u001b[0m             \u001b[1;32mfor\u001b[0m \u001b[0mname\u001b[0m \u001b[1;32min\u001b[0m \u001b[0mother\u001b[0m\u001b[1;33m.\u001b[0m\u001b[0mattrs\u001b[0m\u001b[1;33m:\u001b[0m\u001b[1;33m\u001b[0m\u001b[1;33m\u001b[0m\u001b[0m\n\u001b[0;32m   6167\u001b[0m                 \u001b[0mself\u001b[0m\u001b[1;33m.\u001b[0m\u001b[0mattrs\u001b[0m\u001b[1;33m[\u001b[0m\u001b[0mname\u001b[0m\u001b[1;33m]\u001b[0m \u001b[1;33m=\u001b[0m \u001b[0mother\u001b[0m\u001b[1;33m.\u001b[0m\u001b[0mattrs\u001b[0m\u001b[1;33m[\u001b[0m\u001b[0mname\u001b[0m\u001b[1;33m]\u001b[0m\u001b[1;33m\u001b[0m\u001b[1;33m\u001b[0m\u001b[0m\n\u001b[0;32m   6168\u001b[0m \u001b[1;33m\u001b[0m\u001b[0m\n\u001b[1;32m-> 6169\u001b[1;33m             \u001b[0mself\u001b[0m\u001b[1;33m.\u001b[0m\u001b[0mflags\u001b[0m\u001b[1;33m.\u001b[0m\u001b[0mallows_duplicate_labels\u001b[0m \u001b[1;33m=\u001b[0m \u001b[0mother\u001b[0m\u001b[1;33m.\u001b[0m\u001b[0mflags\u001b[0m\u001b[1;33m.\u001b[0m\u001b[0mallows_duplicate_labels\u001b[0m\u001b[1;33m\u001b[0m\u001b[1;33m\u001b[0m\u001b[0m\n\u001b[0m\u001b[0;32m   6170\u001b[0m             \u001b[1;31m# For subclasses using _metadata.\u001b[0m\u001b[1;33m\u001b[0m\u001b[1;33m\u001b[0m\u001b[0m\n\u001b[0;32m   6171\u001b[0m             \u001b[1;32mfor\u001b[0m \u001b[0mname\u001b[0m \u001b[1;32min\u001b[0m \u001b[0mset\u001b[0m\u001b[1;33m(\u001b[0m\u001b[0mself\u001b[0m\u001b[1;33m.\u001b[0m\u001b[0m_metadata\u001b[0m\u001b[1;33m)\u001b[0m \u001b[1;33m&\u001b[0m \u001b[0mset\u001b[0m\u001b[1;33m(\u001b[0m\u001b[0mother\u001b[0m\u001b[1;33m.\u001b[0m\u001b[0m_metadata\u001b[0m\u001b[1;33m)\u001b[0m\u001b[1;33m:\u001b[0m\u001b[1;33m\u001b[0m\u001b[1;33m\u001b[0m\u001b[0m\n\u001b[0;32m   6172\u001b[0m                 \u001b[1;32massert\u001b[0m \u001b[0misinstance\u001b[0m\u001b[1;33m(\u001b[0m\u001b[0mname\u001b[0m\u001b[1;33m,\u001b[0m \u001b[0mstr\u001b[0m\u001b[1;33m)\u001b[0m\u001b[1;33m\u001b[0m\u001b[1;33m\u001b[0m\u001b[0m\n",
      "\u001b[1;32m~\\AppData\\Local\\Packages\\PythonSoftwareFoundation.Python.3.11_qbz5n2kfra8p0\\LocalCache\\local-packages\\Python311\\site-packages\\pandas\\core\\generic.py\u001b[0m in \u001b[0;36m?\u001b[1;34m(self)\u001b[0m\n\u001b[1;32m--> 393\u001b[1;33m     \u001b[1;33m@\u001b[0m\u001b[0mfinal\u001b[0m\u001b[1;33m\u001b[0m\u001b[1;33m\u001b[0m\u001b[0m\n\u001b[0m\u001b[0;32m    394\u001b[0m     \u001b[1;33m@\u001b[0m\u001b[0mproperty\u001b[0m\u001b[1;33m\u001b[0m\u001b[1;33m\u001b[0m\u001b[0m\n\u001b[0;32m    395\u001b[0m     \u001b[1;32mdef\u001b[0m \u001b[0mflags\u001b[0m\u001b[1;33m(\u001b[0m\u001b[0mself\u001b[0m\u001b[1;33m)\u001b[0m \u001b[1;33m->\u001b[0m \u001b[0mFlags\u001b[0m\u001b[1;33m:\u001b[0m\u001b[1;33m\u001b[0m\u001b[1;33m\u001b[0m\u001b[0m\n\u001b[0;32m    396\u001b[0m         \"\"\"\n",
      "\u001b[1;31mKeyboardInterrupt\u001b[0m: "
     ]
    }
   ],
   "source": [
    "# tratar coluna boxOffice\n",
    "\n",
    "def converter_bilheteria(valor):\n",
    "    if valor.endswith('M'):\n",
    "        return float(valor[1:-1]) * 1_000_000\n",
    "    elif valor.endswith('K'):\n",
    "        return float(valor[1:-1]) * 1_000\n",
    "    elif valor.endswith('B'):\n",
    "        return float(valor[1:-1]) * 1_000_000_000\n",
    "    else:\n",
    "        return float(valor[1:])\n",
    "\n",
    "# Aplicando a função em cada linha da coluna 'bilheteria'\n",
    "for index, row in df_movies_critics.iterrows():\n",
    "    df_movies_critics.at[index, 'boxOffice'] = converter_bilheteria(row['boxOffice'])\n",
    "\n",
    "# Visualizando o DataFrame após a conversão\n",
    "print(df_movies_critics)"
   ]
  },
  {
   "cell_type": "code",
   "execution_count": null,
   "metadata": {},
   "outputs": [],
   "source": [
    "df_movies_critics.to_csv('base_merge.csv', index=False)"
   ]
  },
  {
   "cell_type": "markdown",
   "metadata": {},
   "source": [
    "# Clusterização"
   ]
  },
  {
   "cell_type": "code",
   "execution_count": 8,
   "metadata": {},
   "outputs": [
    {
     "name": "stdout",
     "output_type": "stream",
     "text": [
      "            id   title  audienceScore  tomatoMeter releaseDateStreaming  \\\n",
      "0  adrift_2018  Adrift           65.0         69.0           2018-08-21   \n",
      "1  adrift_2018  Adrift           65.0         69.0           2018-08-21   \n",
      "2  adrift_2018  Adrift           65.0         69.0           2018-08-21   \n",
      "3  adrift_2018  Adrift           65.0         69.0           2018-08-21   \n",
      "4  adrift_2018  Adrift           65.0         69.0           2018-08-21   \n",
      "\n",
      "   runtimeMinutes originalLanguage           director  \\\n",
      "0           120.0          English  Baltasar Kormákur   \n",
      "1           120.0          English  Baltasar Kormákur   \n",
      "2           120.0          English  Baltasar Kormákur   \n",
      "3           120.0          English  Baltasar Kormákur   \n",
      "4           120.0          English  Baltasar Kormákur   \n",
      "\n",
      "                                             writer boxOffice  ...  Horror  \\\n",
      "0  Aaron Kandell,Jordan Kandell,David Branson Smith    $31.4M  ...   False   \n",
      "1  Aaron Kandell,Jordan Kandell,David Branson Smith    $31.4M  ...   False   \n",
      "2  Aaron Kandell,Jordan Kandell,David Branson Smith    $31.4M  ...   False   \n",
      "3  Aaron Kandell,Jordan Kandell,David Branson Smith    $31.4M  ...   False   \n",
      "4  Aaron Kandell,Jordan Kandell,David Branson Smith    $31.4M  ...   False   \n",
      "\n",
      "  Documentary Drama  Crime Kids & family Animation Biography  Anime  Music  \\\n",
      "0       False  True  False         False     False     False  False  False   \n",
      "1       False  True  False         False     False     False  False  False   \n",
      "2       False  True  False         False     False     False  False  False   \n",
      "3       False  True  False         False     False     False  False  False   \n",
      "4       False  True  False         False     False     False  False  False   \n",
      "\n",
      "   Sci-fi  \n",
      "0   False  \n",
      "1   False  \n",
      "2   False  \n",
      "3   False  \n",
      "4   False  \n",
      "\n",
      "[5 rows x 42 columns]\n"
     ]
    }
   ],
   "source": [
    "import pandas as pd\n",
    "\n",
    "df_movies_critics = pd.read_csv('base_merge.csv')\n",
    "\n",
    "generos_unicos = set(df_movies_critics['genre'].str.split(', ').explode())\n",
    "\n",
    "for genero in generos_unicos:\n",
    "\n",
    "    df_movies_critics[genero] = False\n",
    "    \n",
    "    df_movies_critics.loc[df_movies_critics['genre'].str.contains(genero), genero] = True\n",
    "\n",
    "df_movies_critics.drop(columns=['genre'], inplace=True)\n",
    "\n",
    "print(df_movies_critics.head())\n"
   ]
  },
  {
   "cell_type": "code",
   "execution_count": 10,
   "metadata": {},
   "outputs": [
    {
     "data": {
      "text/plain": [
       "Index(['id', 'title', 'audienceScore', 'tomatoMeter', 'releaseDateStreaming',\n",
       "       'runtimeMinutes', 'originalLanguage', 'director', 'writer', 'boxOffice',\n",
       "       'reviewId', 'creationDate', 'criticName', 'isTopCritic',\n",
       "       'originalScore', 'reviewState', 'publicatioName', 'reviewText',\n",
       "       'scoreSentiment', 'Action', 'Mystery & thriller', 'Fantasy',\n",
       "       'Adventure', 'Comedy', 'History', 'War', 'Holiday', 'Musical',\n",
       "       'Gay & lesbian', 'Romance', 'Lgbtq+', 'Western', 'Horror',\n",
       "       'Documentary', 'Drama', 'Crime', 'Kids & family', 'Animation',\n",
       "       'Biography', 'Anime', 'Music', 'Sci-fi'],\n",
       "      dtype='object')"
      ]
     },
     "execution_count": 10,
     "metadata": {},
     "output_type": "execute_result"
    }
   ],
   "source": [
    "df_movies_critics.to_csv('base_merge.csv', index=False)\n",
    "\n",
    "df_movies_critics.columns"
   ]
  },
  {
   "cell_type": "code",
   "execution_count": 12,
   "metadata": {},
   "outputs": [
    {
     "name": "stdout",
     "output_type": "stream",
     "text": [
      "                 id  cluster\n",
      "0       adrift_2018       -1\n",
      "1       adrift_2018       -1\n",
      "2       adrift_2018       -1\n",
      "3       adrift_2018       -1\n",
      "4       adrift_2018       -1\n",
      "...             ...      ...\n",
      "730022     fun_size       -1\n",
      "730023     fun_size       -1\n",
      "730024     fun_size       -1\n",
      "730025     fun_size       -1\n",
      "730026     fun_size       -1\n",
      "\n",
      "[730027 rows x 2 columns]\n"
     ]
    }
   ],
   "source": [
    "from sklearn.cluster import DBSCAN\n",
    "from sklearn.preprocessing import StandardScaler\n",
    "\n",
    "df_movies_critics = pd.read_csv('base_merge.csv')\n",
    "\n",
    "colunas_clusterizacao = ['War', 'Mystery & thriller', 'Romance', 'Sci-fi',\n",
    "       'Biography', 'Western', 'Fantasy', 'Kids & family', 'Holiday', 'Crime',\n",
    "       'Lgbtq+', 'Horror', 'Documentary', 'Adventure', 'History', 'Music',\n",
    "       'Animation', 'Anime', 'Musical', 'Action', 'Gay & lesbian', 'Comedy',\n",
    "       'Drama', 'audienceScore', 'tomatoMeter', 'runtimeMinutes']\n",
    "\n",
    "dados_clusterizacao = df_movies_critics[colunas_clusterizacao]\n",
    "\n",
    "scaler = StandardScaler()\n",
    "dados_clusterizacao_normalizados = scaler.fit_transform(dados_clusterizacao)\n",
    "\n",
    "dbscan = DBSCAN(eps=0.5, min_samples=1000)\n",
    "clusters = dbscan.fit_predict(dados_clusterizacao_normalizados)\n",
    "\n",
    "df_movies_critics['cluster'] = clusters\n",
    "\n",
    "print(df_movies_critics[['id', 'cluster']])\n"
   ]
  },
  {
   "cell_type": "code",
   "execution_count": 13,
   "metadata": {},
   "outputs": [
    {
     "name": "stdout",
     "output_type": "stream",
     "text": [
      "Número de clusters: 40\n",
      "                 id  cluster\n",
      "0       adrift_2018       -1\n",
      "1       adrift_2018       -1\n",
      "2       adrift_2018       -1\n",
      "3       adrift_2018       -1\n",
      "4       adrift_2018       -1\n",
      "...             ...      ...\n",
      "730022     fun_size       -1\n",
      "730023     fun_size       -1\n",
      "730024     fun_size       -1\n",
      "730025     fun_size       -1\n",
      "730026     fun_size       -1\n",
      "\n",
      "[730027 rows x 2 columns]\n",
      "cluster\n",
      "-1     445772\n",
      " 2      81618\n",
      " 1      51559\n",
      " 3      34669\n",
      " 0      30475\n",
      " 4      17045\n",
      " 5       8114\n",
      " 8       5641\n",
      " 6       4937\n",
      " 21      3817\n",
      " 7       3295\n",
      " 9       3114\n",
      " 19      2889\n",
      " 17      2636\n",
      " 22      2360\n",
      " 37      2105\n",
      " 20      1944\n",
      " 26      1867\n",
      " 11      1863\n",
      " 29      1840\n",
      " 25      1654\n",
      " 35      1424\n",
      " 30      1422\n",
      " 28      1386\n",
      " 24      1355\n",
      " 23      1256\n",
      " 14      1213\n",
      " 10      1209\n",
      " 31      1153\n",
      " 33      1124\n",
      " 34      1075\n",
      " 27      1049\n",
      " 16      1045\n",
      " 36      1031\n",
      " 12      1029\n",
      " 38      1026\n",
      " 13      1019\n",
      " 15       889\n",
      " 32       626\n",
      " 18       482\n",
      "Name: count, dtype: int64\n"
     ]
    }
   ],
   "source": [
    "# Verificar quantos clusters foram gerados\n",
    "num_clusters = len(df_movies_critics['cluster'].unique())\n",
    "print(\"Número de clusters:\", num_clusters)\n",
    "\n",
    "# Visualizar os resultados\n",
    "print(df_movies_critics[['id', 'cluster']])\n",
    "\n",
    "print(df_movies_critics['cluster'].value_counts())"
   ]
  },
  {
   "cell_type": "markdown",
   "metadata": {},
   "source": [
    "# em cada cluster:\n",
    "- ver o gênero predominante de cada um;\n",
    "- checar sentimento das críticas"
   ]
  },
  {
   "cell_type": "code",
   "execution_count": 15,
   "metadata": {},
   "outputs": [],
   "source": [
    "df_movies_critics.to_csv('base_clusterizada.csv', index=False)"
   ]
  },
  {
   "cell_type": "code",
   "execution_count": 19,
   "metadata": {},
   "outputs": [
    {
     "name": "stdout",
     "output_type": "stream",
     "text": [
      "Cluster 2: Gênero predominante é ['Drama', 'Documentary', 'Comedy']\n",
      "Cluster 0: Gênero predominante é ['Documentary', 'War', 'Comedy']\n",
      "Cluster 1: Gênero predominante é ['Comedy', 'War', 'Documentary']\n",
      "Cluster 3: Gênero predominante é ['Drama', 'Comedy', 'Documentary']\n",
      "Cluster 5: Gênero predominante é ['Horror', 'Mystery & thriller', 'Documentary']\n",
      "Cluster 4: Gênero predominante é ['Romance', 'Comedy', 'War']\n",
      "Cluster 26: Gênero predominante é ['Drama', 'Biography', 'History']\n",
      "Cluster 27: Gênero predominante é ['Action', 'Mystery & thriller', 'War']\n",
      "Cluster 9: Gênero predominante é ['Drama', 'Crime', 'Mystery & thriller']\n",
      "Cluster 6: Gênero predominante é ['Drama', 'Mystery & thriller', 'Documentary']\n",
      "Cluster 7: Gênero predominante é ['Drama', 'Biography', 'Documentary']\n",
      "Cluster 24: Gênero predominante é ['Drama', 'Mystery & thriller', 'Documentary']\n",
      "Cluster 25: Gênero predominante é ['Drama', 'Lgbtq+', 'Documentary']\n",
      "Cluster 10: Gênero predominante é ['Action', 'Mystery & thriller', 'War']\n",
      "Cluster 19: Gênero predominante é ['Drama', 'Romance', 'Documentary']\n",
      "Cluster 8: Gênero predominante é ['Horror', 'Mystery & thriller', 'Documentary']\n",
      "Cluster 37: Gênero predominante é ['Romance', 'Comedy', 'War']\n",
      "Cluster 20: Gênero predominante é ['Drama', 'Crime', 'Mystery & thriller']\n",
      "Cluster 22: Gênero predominante é ['Action', 'Fantasy', 'Adventure']\n",
      "Cluster 21: Gênero predominante é ['Comedy', 'Kids & family', 'Animation']\n",
      "Cluster 32: Gênero predominante é ['Drama', 'Comedy', 'Documentary']\n",
      "Cluster 11: Gênero predominante é ['Drama', 'Mystery & thriller', 'Documentary']\n",
      "Cluster 29: Gênero predominante é ['Comedy', 'Action', 'War']\n",
      "Cluster 12: Gênero predominante é ['Drama', 'Crime', 'Mystery & thriller']\n",
      "Cluster 33: Gênero predominante é ['Mystery & thriller', 'War', 'Documentary']\n",
      "Cluster 35: Gênero predominante é ['Comedy', 'Kids & family', 'War']\n",
      "Cluster 18: Gênero predominante é ['Drama', 'Documentary', 'Comedy']\n",
      "Cluster 13: Gênero predominante é ['Drama', 'Romance', 'Documentary']\n",
      "Cluster 31: Gênero predominante é ['Drama', 'History', 'Documentary']\n",
      "Cluster 14: Gênero predominante é ['Horror', 'Mystery & thriller', 'Documentary']\n",
      "Cluster 15: Gênero predominante é ['Drama', 'Mystery & thriller', 'Documentary']\n",
      "Cluster 17: Gênero predominante é ['Adventure', 'Sci-fi', 'Action']\n",
      "Cluster 16: Gênero predominante é ['Action', 'Mystery & thriller', 'War']\n",
      "Cluster 36: Gênero predominante é ['Drama', 'Biography', 'Documentary']\n",
      "Cluster 23: Gênero predominante é ['Comedy', 'Action', 'Fantasy']\n",
      "Cluster 34: Gênero predominante é ['Drama', 'Crime', 'Mystery & thriller']\n",
      "Cluster 28: Gênero predominante é ['Adventure', 'Comedy', 'Fantasy']\n",
      "Cluster 30: Gênero predominante é ['Drama', 'Comedy', 'Mystery & thriller']\n",
      "Cluster 38: Gênero predominante é ['Comedy', 'Action', 'Fantasy']\n"
     ]
    }
   ],
   "source": [
    "generos = ['War', 'Mystery & thriller', 'Romance', 'Sci-fi', 'Biography', 'Western', \n",
    "           'Fantasy', 'Kids & family', 'Holiday', 'Crime', 'Lgbtq+', 'Horror', \n",
    "           'Documentary', 'Adventure', 'History', 'Music', 'Animation', 'Anime', \n",
    "           'Musical', 'Action', 'Gay & lesbian', 'Comedy', 'Drama']\n",
    "\n",
    "# Inicializar um dicionário para armazenar o gênero predominante de cada cluster\n",
    "genero_predominante = {}\n",
    "\n",
    "# Iterar sobre cada cluster\n",
    "for cluster in df_movies_critics['cluster'].unique():\n",
    "    if cluster == -1:\n",
    "        continue  # Pular o ruído\n",
    "    \n",
    "    # Filtrar o DataFrame para o cluster atual\n",
    "    cluster_data = df_movies_critics[df_movies_critics['cluster'] == cluster]\n",
    "    \n",
    "    # Contar a ocorrência de cada gênero no cluster\n",
    "    genero_contagem = cluster_data[generos].sum().sort_values(ascending=False)\n",
    "    \n",
    "    # Identificar o gênero predominante\n",
    "    genero_predominante[cluster] = genero_contagem.index[:3].tolist()\n",
    "\n",
    "# Exibir o gênero predominante de cada cluster\n",
    "for cluster, genero in genero_predominante.items():\n",
    "    print(f\"Cluster {cluster}: Gênero predominante é {genero}\")\n"
   ]
  },
  {
   "cell_type": "markdown",
   "metadata": {},
   "source": [
    "# Mineração de texto\n",
    "## análise de sentimentos utilizando o texto de cada crítica."
   ]
  },
  {
   "cell_type": "code",
   "execution_count": 21,
   "metadata": {},
   "outputs": [
    {
     "data": {
      "text/plain": [
       "Index(['id', 'title', 'audienceScore', 'tomatoMeter', 'releaseDateStreaming',\n",
       "       'runtimeMinutes', 'originalLanguage', 'director', 'writer', 'boxOffice',\n",
       "       'reviewId', 'creationDate', 'criticName', 'isTopCritic',\n",
       "       'originalScore', 'reviewState', 'publicatioName', 'reviewText',\n",
       "       'scoreSentiment', 'Action', 'Mystery & thriller', 'Fantasy',\n",
       "       'Adventure', 'Comedy', 'History', 'War', 'Holiday', 'Musical',\n",
       "       'Gay & lesbian', 'Romance', 'Lgbtq+', 'Western', 'Horror',\n",
       "       'Documentary', 'Drama', 'Crime', 'Kids & family', 'Animation',\n",
       "       'Biography', 'Anime', 'Music', 'Sci-fi', 'cluster'],\n",
       "      dtype='object')"
      ]
     },
     "execution_count": 21,
     "metadata": {},
     "output_type": "execute_result"
    }
   ],
   "source": [
    "df_movies_critics.columns"
   ]
  },
  {
   "cell_type": "code",
   "execution_count": 26,
   "metadata": {},
   "outputs": [
    {
     "data": {
      "text/plain": [
       "(264873, 43)"
      ]
     },
     "execution_count": 26,
     "metadata": {},
     "output_type": "execute_result"
    }
   ],
   "source": [
    "df_movies_critics.dropna(subset=['reviewText'], inplace=True)\n",
    "df_movies_critics_sem_ruido = df_movies_critics[df_movies_critics['cluster'] != -1]\n",
    "\n",
    "df_movies_critics_sem_ruido.shape\n"
   ]
  },
  {
   "cell_type": "code",
   "execution_count": 33,
   "metadata": {},
   "outputs": [
    {
     "name": "stderr",
     "output_type": "stream",
     "text": [
      "C:\\Users\\User_Alt\\AppData\\Local\\Temp\\ipykernel_17808\\2543596209.py:25: SettingWithCopyWarning: \n",
      "A value is trying to be set on a copy of a slice from a DataFrame.\n",
      "Try using .loc[row_indexer,col_indexer] = value instead\n",
      "\n",
      "See the caveats in the documentation: https://pandas.pydata.org/pandas-docs/stable/user_guide/indexing.html#returning-a-view-versus-a-copy\n",
      "  df_movies_critics_sem_ruido['top_words'] = df_movies_critics_sem_ruido['reviewText'].apply(get_top_words)\n"
     ]
    }
   ],
   "source": [
    "from nltk.corpus import stopwords\n",
    "from nltk.tokenize import word_tokenize\n",
    "from collections import Counter\n",
    "\n",
    "# Supondo que df_movies_critics seja o DataFrame combinado contendo as críticas e a coluna 'reviewText'\n",
    "\n",
    "# Obter a lista de stop words em inglês\n",
    "stop_words = set(stopwords.words('english'))\n",
    "stop_words.update(['movie', 'film'])\n",
    "\n",
    "# Função para encontrar as três palavras mais comuns excluindo stop words\n",
    "def get_top_words(text, n=3):\n",
    "    # Tokenizar o texto\n",
    "    words = word_tokenize(text.lower())\n",
    "    # Filtrar as stop words e manter apenas palavras alfabéticas\n",
    "    filtered_words = [word for word in words if word.isalpha() and word not in stop_words]\n",
    "    # Contar a frequência das palavras\n",
    "    word_counts = Counter(filtered_words)\n",
    "    # Obter as n palavras mais comuns\n",
    "    common_words = word_counts.most_common(n)\n",
    "    # Retornar apenas as palavras, sem as contagens\n",
    "    return [word for word, count in common_words]\n",
    "\n",
    "# Aplicar a função a cada crítica\n",
    "df_movies_critics_sem_ruido['top_words'] = df_movies_critics_sem_ruido['reviewText'].apply(get_top_words)\n"
   ]
  },
  {
   "cell_type": "code",
   "execution_count": 34,
   "metadata": {},
   "outputs": [
    {
     "name": "stdout",
     "output_type": "stream",
     "text": [
      "Cluster 0: Palavras mais comuns são [('documentary', 2142), ('one', 757), ('fascinating', 599), ('like', 551), ('story', 500), ('look', 373), ('director', 360), ('may', 358), ('entertaining', 352), ('portrait', 349)]\n",
      "Cluster 1: Palavras mais comuns são [('comedy', 2194), ('funny', 1652), ('like', 1251), ('one', 1225), ('good', 722), ('even', 624), ('much', 621), ('may', 518), ('little', 483), ('fun', 447)]\n",
      "Cluster 2: Palavras mais comuns são [('one', 1821), ('story', 1810), ('like', 1539), ('drama', 1476), ('director', 1122), ('good', 902), ('may', 871), ('best', 811), ('much', 793), ('performances', 763)]\n",
      "Cluster 3: Palavras mais comuns são [('one', 890), ('funny', 716), ('like', 716), ('comedy', 648), ('story', 506), ('best', 422), ('good', 398), ('director', 391), ('may', 377), ('much', 377)]\n",
      "Cluster 4: Palavras mais comuns são [('comedy', 692), ('romantic', 597), ('like', 421), ('one', 351), ('funny', 314), ('good', 214), ('much', 199), ('allen', 192), ('love', 187), ('even', 186)]\n",
      "Cluster 5: Palavras mais comuns são [('horror', 492), ('one', 217), ('like', 138), ('scary', 137), ('good', 124), ('best', 114), ('thriller', 106), ('fun', 100), ('much', 99), ('story', 94)]\n",
      "Cluster 6: Palavras mais comuns são [('one', 156), ('thriller', 154), ('like', 96), ('story', 96), ('best', 71), ('never', 70), ('may', 66), ('director', 64), ('good', 63), ('lighthouse', 61)]\n",
      "Cluster 7: Palavras mais comuns são [('story', 102), ('one', 72), ('beautiful', 69), ('performance', 68), ('director', 66), ('like', 58), ('whitaker', 53), ('good', 52), ('best', 51), ('biopic', 50)]\n",
      "Cluster 8: Palavras mais comuns são [('horror', 315), ('one', 154), ('like', 109), ('much', 101), ('even', 91), ('scary', 85), ('good', 84), ('wish', 81), ('another', 69), ('nothing', 69)]\n",
      "Cluster 9: Palavras mais comuns são [('thriller', 118), ('affleck', 91), ('one', 85), ('best', 55), ('director', 50), ('story', 49), ('day', 48), ('wind', 47), ('like', 46), ('good', 44)]\n",
      "Cluster 10: Palavras mais comuns são [('action', 99), ('john', 95), ('wick', 93), ('baby', 60), ('chapter', 51), ('driver', 48), ('wright', 45), ('bourne', 38), ('best', 28), ('one', 25)]\n",
      "Cluster 11: Palavras mais comuns são [('one', 60), ('thriller', 39), ('drama', 37), ('like', 35), ('story', 34), ('money', 33), ('personal', 32), ('good', 29), ('schrader', 29), ('stewart', 29)]\n",
      "Cluster 12: Palavras mais comuns são [('good', 52), ('time', 33), ('thriller', 32), ('plaza', 32), ('one', 27), ('emily', 26), ('cronenberg', 25), ('pattinson', 24), ('eastern', 24), ('crime', 23)]\n",
      "Cluster 13: Palavras mais comuns são [('story', 29), ('chesil', 24), ('drama', 21), ('two', 21), ('beach', 21), ('like', 20), ('one', 17), ('performances', 17), ('love', 16), ('romance', 16)]\n",
      "Cluster 14: Palavras mais comuns são [('horror', 60), ('split', 55), ('scream', 50), ('scary', 48), ('shyamalan', 48), ('smile', 35), ('stories', 35), ('conjuring', 33), ('one', 29), ('thelma', 27)]\n",
      "Cluster 15: Palavras mais comuns são [('polanski', 42), ('sloane', 38), ('miss', 37), ('chastain', 35), ('thriller', 32), ('demme', 30), ('elle', 27), ('syriana', 25), ('political', 24), ('one', 23)]\n",
      "Cluster 16: Palavras mais comuns são [('action', 61), ('escape', 50), ('skyscraper', 35), ('thriller', 32), ('like', 28), ('one', 21), ('contraband', 21), ('fun', 21), ('neeson', 21), ('statham', 19)]\n",
      "Cluster 17: Palavras mais comuns são [('star', 242), ('trek', 130), ('one', 129), ('iron', 96), ('man', 96), ('abrams', 96), ('wars', 89), ('best', 85), ('like', 80), ('rogue', 77)]\n",
      "Cluster 18: Palavras mais comuns são [('blood', 18), ('anderson', 18), ('one', 14), ('performance', 14), ('best', 12), ('drama', 10), ('pacino', 10), ('mann', 9), ('director', 8), ('epic', 8)]\n",
      "Cluster 19: Palavras mais comuns são [('one', 85), ('story', 83), ('love', 79), ('like', 54), ('bridges', 48), ('director', 47), ('drama', 43), ('emma', 42), ('phantom', 40), ('thread', 36)]\n",
      "Cluster 20: Palavras mais comuns são [('thriller', 137), ('state', 132), ('play', 117), ('widows', 65), ('one', 51), ('story', 43), ('political', 41), ('best', 39), ('year', 37), ('mcqueen', 37)]\n",
      "Cluster 21: Palavras mais comuns são [('kung', 131), ('fun', 124), ('fu', 119), ('animated', 117), ('panda', 116), ('animation', 102), ('like', 97), ('funny', 90), ('good', 88), ('story', 84)]\n",
      "Cluster 22: Palavras mais comuns são [('black', 111), ('marvel', 104), ('best', 99), ('wonder', 95), ('panther', 92), ('woman', 90), ('one', 77), ('batman', 74), ('superhero', 73), ('captain', 71)]\n",
      "Cluster 23: Palavras mais comuns são [('quantumania', 224), ('wasp', 136), ('apos', 103), ('marvel', 72), ('majors', 48), ('shazam', 45), ('mcu', 44), ('fury', 42), ('fun', 40), ('gods', 36)]\n",
      "Cluster 24: Palavras mais comuns são [('wright', 43), ('last', 41), ('hotel', 40), ('night', 39), ('thriller', 36), ('one', 35), ('mumbai', 34), ('soho', 34), ('like', 26), ('brick', 24)]\n",
      "Cluster 25: Palavras mais comuns são [('one', 58), ('moonlight', 58), ('story', 36), ('drama', 35), ('jenkins', 31), ('fantastic', 26), ('like', 25), ('director', 22), ('beautifully', 22), ('woman', 22)]\n",
      "Cluster 26: Palavras mais comuns são [('story', 63), ('tolkien', 52), ('biopic', 42), ('birth', 40), ('knightley', 36), ('suffragette', 35), ('nation', 34), ('good', 29), ('like', 29), ('dafoe', 29)]\n",
      "Cluster 27: Palavras mais comuns são [('action', 51), ('thriller', 35), ('criminal', 31), ('cruise', 30), ('one', 27), ('jack', 27), ('reacher', 27), ('never', 25), ('foy', 23), ('lively', 23)]\n",
      "Cluster 28: Palavras mais comuns são [('story', 185), ('toy', 165), ('pixar', 114), ('onward', 72), ('dragon', 41), ('train', 36), ('may', 36), ('one', 34), ('sequel', 31), ('like', 29)]\n",
      "Cluster 29: Palavras mais comuns são [('comedy', 79), ('funny', 72), ('birds', 72), ('prey', 69), ('jump', 67), ('street', 55), ('game', 45), ('night', 42), ('tropic', 42), ('thunder', 40)]\n",
      "Cluster 30: Palavras mais comuns são [('parasite', 256), ('bong', 164), ('one', 73), ('knives', 71), ('johnson', 45), ('best', 38), ('funny', 38), ('like', 27), ('rian', 27), ('masterpiece', 24)]\n",
      "Cluster 31: Palavras mais comuns são [('selma', 61), ('king', 45), ('one', 43), ('hidden', 43), ('figures', 42), ('story', 38), ('speech', 33), ('like', 23), ('drama', 22), ('director', 22)]\n",
      "Cluster 32: Palavras mais comuns são [('bucket', 21), ('stick', 18), ('list', 17), ('one', 16), ('like', 16), ('madea', 13), ('rules', 13), ('spun', 11), ('much', 10), ('funny', 10)]\n",
      "Cluster 33: Palavras mais comuns são [('girl', 46), ('thriller', 39), ('train', 37), ('shyamalan', 37), ('like', 29), ('one', 25), ('de', 25), ('village', 23), ('blunt', 22), ('recruit', 22)]\n",
      "Cluster 34: Palavras mais comuns são [('fincher', 77), ('girl', 75), ('gone', 54), ('scorsese', 52), ('thriller', 42), ('prisoners', 35), ('one', 29), ('david', 27), ('best', 24), ('departed', 24)]\n",
      "Cluster 35: Palavras mais comuns são [('daddy', 68), ('kids', 54), ('day', 47), ('comedy', 37), ('family', 37), ('murphy', 36), ('care', 36), ('like', 29), ('almighty', 29), ('evan', 28)]\n",
      "Cluster 36: Palavras mais comuns são [('story', 44), ('burton', 28), ('big', 26), ('eyes', 25), ('like', 23), ('boy', 20), ('one', 19), ('invincible', 19), ('kinnear', 19), ('nowhere', 18)]\n",
      "Cluster 37: Palavras mais comuns são [('comedy', 99), ('romantic', 85), ('funny', 77), ('crazy', 71), ('big', 56), ('love', 53), ('long', 53), ('rich', 47), ('apatow', 46), ('shot', 45)]\n",
      "Cluster 38: Palavras mais comuns são [('deadpool', 85), ('wasp', 71), ('fun', 48), ('marvel', 44), ('funny', 34), ('sequel', 33), ('jumanji', 33), ('one', 31), ('like', 31), ('entertaining', 24)]\n"
     ]
    }
   ],
   "source": [
    "from collections import Counter\n",
    "\n",
    "# Supondo que df_movies_critics seja o DataFrame contendo a coluna 'top_words' e 'cluster'\n",
    "\n",
    "# Função para contar palavras em um cluster\n",
    "def contar_palavras_cluster(cluster_data):\n",
    "    # Concatenar todas as top words em uma única lista\n",
    "    todas_palavras = [word for words in cluster_data for word in words]\n",
    "    # Contar a frequência das palavras\n",
    "    contador = Counter(todas_palavras)\n",
    "    # Obter as palavras mais comuns\n",
    "    return contador.most_common(10)\n",
    "\n",
    "# Agrupar por cluster e aplicar a função de contagem\n",
    "palavras_por_cluster = df_movies_critics_sem_ruido.groupby('cluster')['top_words'].apply(contar_palavras_cluster)\n",
    "\n",
    "# Exibir os resultados\n",
    "for cluster, palavras in palavras_por_cluster.items():\n",
    "    print(f\"Cluster {cluster}: Palavras mais comuns são {palavras}\")\n"
   ]
  },
  {
   "cell_type": "code",
   "execution_count": 36,
   "metadata": {},
   "outputs": [
    {
     "data": {
      "image/png": "[encoded data removed]",
      "text/plain": [
       "<Figure size 1000x600 with 1 Axes>"
      ]
     },
     "metadata": {},
     "output_type": "display_data"
    }
   ],
   "source": [
    "cluster_23 = [('quantumania', 224), ('wasp', 136), ('apos', 103), ('marvel', 72), ('majors', 48), ('shazam', 45), ('mcu', 44), ('fury', 42), ('fun', 40), ('gods', 36)]\n",
    "\n",
    "palavras, frequencias = zip(*cluster_23)\n",
    "\n",
    "# Criar o gráfico de barras\n",
    "plt.figure(figsize=(10, 6))\n",
    "plt.bar(palavras, frequencias, color='lightgreen', edgecolor='black')\n",
    "\n",
    "# Adicionar títulos e rótulos\n",
    "plt.title('Palavras mais comuns no Cluster 23')\n",
    "plt.xlabel('Palavras')\n",
    "plt.ylabel('Frequências')\n",
    "\n",
    "# Exibir o gráfico\n",
    "plt.show()"
   ]
  },
  {
   "cell_type": "markdown",
   "metadata": {},
   "source": [
    "## sentimentos"
   ]
  },
  {
   "cell_type": "code",
   "execution_count": 9,
   "metadata": {},
   "outputs": [
    {
     "name": "stdout",
     "output_type": "stream",
     "text": [
      "Accuracy: 0.7842756016989146\n"
     ]
    }
   ],
   "source": [
    "import nltk\n",
    "from nltk.tokenize import word_tokenize\n",
    "from nltk.corpus import stopwords\n",
    "from sklearn.model_selection import train_test_split\n",
    "from sklearn.naive_bayes import MultinomialNB\n",
    "from sklearn.feature_extraction.text import TfidfVectorizer\n",
    "from sklearn.metrics import accuracy_score\n",
    "\n",
    "\n",
    "# Definir stopwords\n",
    "stop_words = set(stopwords.words('english'))\n",
    "stop_words.update(['movie', 'film'])\n",
    "\n",
    "# Pré-processamento das críticas\n",
    "def preprocess_text(text):\n",
    "    tokens = word_tokenize(text.lower())  # Tokenização e conversão para minúsculas\n",
    "    tokens = [word for word in tokens if word.isalpha()]  # Remover pontuação\n",
    "    tokens = [word for word in tokens if word not in stop_words]  # Remover stopwords\n",
    "    return \" \".join(tokens)\n",
    "\n",
    "# Aplicar pré-processamento\n",
    "df_movies_critics_sem_ruido['processed_review'] = df_movies_critics_sem_ruido['reviewText'].apply(preprocess_text)\n",
    "\n",
    "# Vetorização dos dados de texto\n",
    "tfidf_vectorizer = TfidfVectorizer(max_features=5000)  # Usando TF-IDF para vetorização\n",
    "X = tfidf_vectorizer.fit_transform(df_movies_critics_sem_ruido['processed_review'])\n",
    "y = df_movies_critics_sem_ruido['scoreSentiment']\n",
    "\n",
    "# Dividir os dados em conjuntos de treino e teste\n",
    "X_train, X_test, y_train, y_test = train_test_split(X, y, test_size=0.2, random_state=42)\n",
    "\n",
    "# Treinar o classificador Naive Bayes\n",
    "nb_classifier = MultinomialNB()\n",
    "nb_classifier.fit(X_train, y_train)\n",
    "\n",
    "# Prever os sentimentos das críticas no conjunto de teste\n",
    "y_pred = nb_classifier.predict(X_test)\n",
    "\n",
    "# Avaliar a precisão do modelo\n",
    "accuracy = accuracy_score(y_test, y_pred)\n",
    "print(\"Accuracy:\", accuracy)\n"
   ]
  },
  {
   "cell_type": "code",
   "execution_count": 11,
   "metadata": {},
   "outputs": [
    {
     "data": {
      "image/png": "[encoded data removed]",
      "text/plain": [
       "<Figure size 800x600 with 2 Axes>"
      ]
     },
     "metadata": {},
     "output_type": "display_data"
    }
   ],
   "source": [
    "#%pip install seaborn\n",
    "\n",
    "import seaborn as sns\n",
    "import matplotlib.pyplot as plt\n",
    "from sklearn.metrics import confusion_matrix\n",
    "\n",
    "# Calcular a matriz de confusão\n",
    "conf_matrix = confusion_matrix(y_test, y_pred)\n",
    "\n",
    "# Plotar a matriz de confusão\n",
    "plt.figure(figsize=(8, 6))\n",
    "sns.heatmap(conf_matrix, annot=True, fmt=\"d\", cmap=\"Blues\", \n",
    "            xticklabels=['Negativo', 'Positivo'], \n",
    "            yticklabels=['Negativo', 'Positivo'])\n",
    "plt.title('Matriz de Confusão')\n",
    "plt.xlabel('Valor Previsto')\n",
    "plt.ylabel('Valor Real')\n",
    "plt.show()\n"
   ]
  },
  {
   "cell_type": "code",
   "execution_count": 12,
   "metadata": {},
   "outputs": [],
   "source": [
    "df_movies_critics_sem_ruido.to_csv('base_clusterizada_sem_ruido.csv', index=False)"
   ]
  }
 ],
 "metadata": {
  "kernelspec": {
   "display_name": "Python 3",
   "language": "python",
   "name": "python3"
  },
  "language_info": {
   "codemirror_mode": {
    "name": "ipython",
    "version": 3
   },
   "file_extension": ".py",
   "mimetype": "text/x-python",
   "name": "python",
   "nbconvert_exporter": "python",
   "pygments_lexer": "ipython3",
   "version": "3.11.9"
  }
 },
 "nbformat": 4,
 "nbformat_minor": 2
}
